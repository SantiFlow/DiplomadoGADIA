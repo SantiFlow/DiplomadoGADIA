{
  "nbformat": 4,
  "nbformat_minor": 0,
  "metadata": {
    "colab": {
      "provenance": [],
      "toc_visible": true,
      "authorship_tag": "ABX9TyNm66NYijXzB6VaTZd6Y3mz",
      "include_colab_link": true
    },
    "kernelspec": {
      "name": "python3",
      "display_name": "Python 3"
    },
    "language_info": {
      "name": "python"
    }
  },
  "cells": [
    {
      "cell_type": "markdown",
      "metadata": {
        "id": "view-in-github",
        "colab_type": "text"
      },
      "source": [
        "<a href=\"https://colab.research.google.com/github/SantiFlow/DiplomadoGADIA/blob/main/Untitled0.ipynb\" target=\"_parent\"><img src=\"https://colab.research.google.com/assets/colab-badge.svg\" alt=\"Open In Colab\"/></a>"
      ]
    },
    {
      "cell_type": "code",
      "source": [],
      "metadata": {
        "id": "P3TDxNOKdjck"
      },
      "execution_count": null,
      "outputs": []
    },
    {
      "cell_type": "markdown",
      "source": [
        " ## FUNCIONES CONDICIONALES Y ERRORES\n",
        "\n",
        "\n",
        " ## FUNDACION UNIVERSITARIA CAFAM\n",
        " ## DOCENTE: NICOLAS MOJICA\n",
        " ## ESTUDIANTE: SANTIAGO BOGOTA"
      ],
      "metadata": {
        "id": "teJIBlFVepKH"
      }
    },
    {
      "cell_type": "code",
      "execution_count": null,
      "metadata": {
        "colab": {
          "base_uri": "https://localhost:8080/"
        },
        "id": "4LZ6-NnXco4d",
        "outputId": "7986bfc6-6eac-42df-b924-eb8f849cdbf5"
      },
      "outputs": [
        {
          "output_type": "stream",
          "name": "stdout",
          "text": [
            "eres mayor de edad\n"
          ]
        }
      ],
      "source": [
        "## las condicionales en python permiten tomar desiciones en el codigo basados en ciertas condiciones, son fundamaentalespara controlar el flujo de ejecucion\n",
        "edad=18\n",
        "#crear una condicional que identifique si la persona es mayor o menor de edad\n",
        "\n",
        "if edad <18 :\n",
        "  print(\"eres menor de edad\")\n",
        "else :\n",
        " print(\"eres mayor de edad\")"
      ]
    },
    {
      "cell_type": "code",
      "source": [
        "## Generar un programa que clasifique la edad introducida por el usuario entre mayor y menor de edad\n",
        "edad = int(input(\"Por favor ingresa tu edad\"))\n",
        "if edad <18 :\n",
        "  print(\"eres menor de edad\")\n",
        "else :\n",
        " print(\"eres mayor de edad\")"
      ],
      "metadata": {
        "colab": {
          "base_uri": "https://localhost:8080/"
        },
        "id": "Nkba40o9cz6m",
        "outputId": "fa2d5d7a-d655-44b4-8228-c07d90a8f631"
      },
      "execution_count": null,
      "outputs": [
        {
          "output_type": "stream",
          "name": "stdout",
          "text": [
            "Por favor ingresa tu edad 22\n",
            "eres mayor de edad\n"
          ]
        }
      ]
    },
    {
      "cell_type": "code",
      "source": [
        "# Construya un programa que al ingresar  la nota  del usuario lo clasifique en:\n",
        "# NO  aprobado <60, >=90 Clasificacion A, >=80 Clasificacion B, otros  Clasificacion C\n",
        "nota = int(input(\"Ingrese la nota \"))\n",
        "if nota >=60 :\n",
        " if nota >=90 :\n",
        "  print(\"Clasificacion A\")\n",
        " elif nota>=80 :\n",
        "  print(\"Clasificacion B\")\n",
        " else :\n",
        "  print(\"Clasificacion C\")\n",
        "else :\n",
        "  print(\"No aprobado\")"
      ],
      "metadata": {
        "colab": {
          "base_uri": "https://localhost:8080/"
        },
        "id": "WcWMMQAgnmlU",
        "outputId": "f72ecb5f-c47f-42d0-e8e2-9e9f070a1d2b"
      },
      "execution_count": 29,
      "outputs": [
        {
          "output_type": "stream",
          "name": "stdout",
          "text": [
            "Ingrese la nota 23\n",
            "No aprobado\n"
          ]
        }
      ]
    },
    {
      "cell_type": "code",
      "source": [
        "\"\"\"\n",
        "Comparaciones\n",
        "Las condiciones en las sentencias condicionales suelen involucrar operadores de comparación:\n",
        "\n",
        "- == (igual a)\n",
        "- != (diferente de)\n",
        "- > (mayor que)\n",
        "- < (menor que)\n",
        "- >= (mayor o igual que)\n",
        "- <= (menor o igual que)\n",
        "\"\"\"\n"
      ],
      "metadata": {
        "id": "mO9m-4jghOKA"
      },
      "execution_count": null,
      "outputs": []
    },
    {
      "cell_type": "code",
      "source": [
        "##Escribe un programa que verifique si un número ingresado por el usuario es par o impar.\n",
        "\n",
        "num = int(input(\"-> Ingrese un número: \"))\n",
        "if num%2 == 0:\n",
        "  print(\"// El número ingresado es par. \")\n",
        "else:\n",
        "  print(\"// El número ingresado es impar. \")\n",
        "\n",
        "# Negativa.\n",
        "  num = int(input(\"-> Ingrese un número: \"))\n",
        "if num%2 != 0:\n",
        "  print(\"// El número ingresado es impar. \")\n",
        "else:\n",
        "  print(\"// El número ingresado es par. \")"
      ],
      "metadata": {
        "id": "3THNZt1ZiaBd",
        "colab": {
          "base_uri": "https://localhost:8080/"
        },
        "outputId": "ae78153a-8c00-4233-9bd4-1bcb481ce473"
      },
      "execution_count": 27,
      "outputs": [
        {
          "output_type": "stream",
          "name": "stdout",
          "text": [
            "-> Ingrese un número: 7\n",
            "// El número ingresado es impar. \n",
            "-> Ingrese un número: 3\n",
            "// El número ingresado es impar. \n"
          ]
        }
      ]
    },
    {
      "cell_type": "code",
      "source": [
        "##Crea un programa que lea dos números y determine cuál es mayor, cuál es menor o si ambos son iguales.\n",
        "\n",
        "num1 = int(input(\"-> Ingrese el primer número: \"))\n",
        "num2 = int(input(\"-> Ingrese el segundo número: \"))\n",
        "\n",
        "if num1 != num2:\n",
        "\n",
        "  if num1 > num2:\n",
        "    print(f\"// El numero mayor es {num1}\")\n",
        "  else:\n",
        "    print(f\"// El numero menor es {num2}\")\n",
        "\n",
        "else:\n",
        "  print(f\"// Los numeros {num1} y {num2} son iguales\")"
      ],
      "metadata": {
        "id": "WozxYhh6kLJu",
        "colab": {
          "base_uri": "https://localhost:8080/"
        },
        "outputId": "15257259-b0db-4fe2-b7cd-8f7a58377391"
      },
      "execution_count": 28,
      "outputs": [
        {
          "output_type": "stream",
          "name": "stdout",
          "text": [
            "-> Ingrese el primer número: 1\n",
            "-> Ingrese el segundo número: 2\n",
            "// El numero menor es 2\n"
          ]
        }
      ]
    },
    {
      "cell_type": "code",
      "source": [
        "edad = int(input(\"Ingrese la edad: \"))\n",
        "\n",
        "if edad >= 0:\n",
        "    if edad <= 12:\n",
        "        print(\"Niño\")\n",
        "    elif edad <= 17:\n",
        "        print(\"Adolescente\")\n",
        "    elif edad <= 64:\n",
        "        print(\"Adulto\")\n",
        "    else:\n",
        "        print(\"Anciano\")\n",
        "\n"
      ],
      "metadata": {
        "colab": {
          "base_uri": "https://localhost:8080/"
        },
        "id": "DBjq6lHXsJ9Z",
        "outputId": "e25e5018-1257-4621-c091-ea9cc98b818e"
      },
      "execution_count": 55,
      "outputs": [
        {
          "output_type": "stream",
          "name": "stdout",
          "text": [
            "Ingrese la edad: 34\n",
            "Adulto\n"
          ]
        }
      ]
    },
    {
      "cell_type": "markdown",
      "source": [
        "## 2. funciones\n",
        "#bloques  de codigo en python que se pueden reutilizar para ejecutar una tarea en especifico\n",
        "\n"
      ],
      "metadata": {
        "id": "DaSEcHxBtroG"
      }
    },
    {
      "cell_type": "code",
      "source": [
        "#tengo la funcion lineal  y= mx+b\n",
        "#deseo evaluar el valor  de x=5 en la funcion y=4x+7\n",
        "def funcion_lineal(x):\n",
        "    variable = x\n",
        "    y=(4*variable)+7\n",
        "    z=print(f\"el valor de y es : {y}\")\n",
        "    return z\n",
        "\n",
        "funcion_lineal(5)"
      ],
      "metadata": {
        "colab": {
          "base_uri": "https://localhost:8080/"
        },
        "id": "KC2wcDYytrK1",
        "outputId": "74f4188a-a98c-4f98-f964-aa30271b00e9"
      },
      "execution_count": 73,
      "outputs": [
        {
          "output_type": "stream",
          "name": "stdout",
          "text": [
            "el valor de y es : 27\n"
          ]
        }
      ]
    },
    {
      "cell_type": "code",
      "source": [
        "#funcion con 2 variables\n",
        "def suma(a,b) :\n",
        "  return a + b\n",
        "print(suma(2,2))"
      ],
      "metadata": {
        "colab": {
          "base_uri": "https://localhost:8080/"
        },
        "id": "L9pXP7dhuRQG",
        "outputId": "c97582c4-e851-4c96-a41e-61c1e5b0d1bc"
      },
      "execution_count": 74,
      "outputs": [
        {
          "output_type": "stream",
          "name": "stdout",
          "text": [
            "4\n"
          ]
        }
      ]
    },
    {
      "cell_type": "markdown",
      "source": [],
      "metadata": {
        "id": "8ZYc-5SutptX"
      }
    },
    {
      "cell_type": "code",
      "source": [
        "\n",
        "\n",
        "def verificar_edad(edad):\n",
        "    if edad >= 18:\n",
        "        print(\"Es mayor de edad\")\n",
        "    else:\n",
        "        print(\"Es menor de edad\")\n",
        "verificar_edad(int(input(\"Ingrese su edad: \")))78\n",
        "\n",
        "\n",
        "\n"
      ],
      "metadata": {
        "colab": {
          "base_uri": "https://localhost:8080/"
        },
        "id": "YwlzBJbHz_pe",
        "outputId": "24f87994-2da1-49b9-978e-a2a9db796c9b"
      },
      "execution_count": 87,
      "outputs": [
        {
          "output_type": "stream",
          "name": "stdout",
          "text": [
            "Ingrese su edad: 23\n",
            "Es mayor de edad\n"
          ]
        }
      ]
    },
    {
      "cell_type": "code",
      "source": [],
      "metadata": {
        "id": "EyK6FqAs0PoA"
      },
      "execution_count": null,
      "outputs": []
    }
  ]
}