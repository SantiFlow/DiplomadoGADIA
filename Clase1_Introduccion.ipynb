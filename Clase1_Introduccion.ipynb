{
  "cells": [
    {
      "cell_type": "markdown",
      "source": [
        "**INTRODUCCIÓN A PYTHON**\n",
        "\n",
        "DIPLOMADO EN GOBIERNO Y ANALÍTICA DE DATOS\n",
        "\n",
        "FUNDACIÓN UNIVERSITARIA CAFAM\n",
        "\n",
        "DOCENTE: NICOLÁS MOJICA GOMÉZ\n",
        "\n",
        "ESTUDIANTE: DANIEL SANTIAGO BOGOTÁ\n",
        "\n",
        "\n",
        "\n",
        "---"
      ],
      "metadata": {
        "id": "9PvV_ygFNYMc"
      }
    },
    {
      "cell_type": "markdown",
      "source": [
        "## 1. Comentario en los códigos\n",
        "\n",
        "Para comentar códigos en python existen diferentes formas de crear comentarios, esto nos permite comentar nustras secuencias de comandos para su analisis o posterior modificación."
      ],
      "metadata": {
        "id": "E5dIwVXuNd_h"
      }
    },
    {
      "cell_type": "code",
      "source": [
        "#Este comentario es de una sola linea\n",
        "#Python es sensible a las mayúsculas y minúsculas\n",
        "print(\"Hola Mundo\")"
      ],
      "metadata": {
        "colab": {
          "base_uri": "https://localhost:8080/"
        },
        "id": "SqqZOwTNNtl0",
        "outputId": "53eaaaca-cab1-4a86-e507-3a1f61288577"
      },
      "execution_count": null,
      "outputs": [
        {
          "output_type": "stream",
          "name": "stdout",
          "text": [
            "Hola Mundo\n"
          ]
        }
      ]
    },
    {
      "cell_type": "code",
      "source": [
        "'''\n",
        "Este es un comentario de multiples lineas\n",
        "puede extenderse en varias lineas\n",
        "'''\n",
        "print(\"Hola Mundo\")"
      ],
      "metadata": {
        "colab": {
          "base_uri": "https://localhost:8080/"
        },
        "id": "zUwU84TtNuEw",
        "outputId": "31beff07-3616-4de1-daad-9cb6f6b6ad2f"
      },
      "execution_count": null,
      "outputs": [
        {
          "output_type": "stream",
          "name": "stdout",
          "text": [
            "Hola Mundo\n"
          ]
        }
      ]
    },
    {
      "cell_type": "markdown",
      "source": [
        "##2. Variables##\n",
        "\n",
        "Una variable es un elemento de un lenguaje de programación que tiene asignado un valor determinado"
      ],
      "metadata": {
        "id": "3vqrDwb1N3ak"
      }
    },
    {
      "cell_type": "code",
      "source": [
        "## Para crear una variable en Python, se le debe proporcionar un nombre y se le debe asignar un valor usando un \"=\"\n",
        "var=\"Hola mundo\"\n",
        "print(var)"
      ],
      "metadata": {
        "colab": {
          "base_uri": "https://localhost:8080/"
        },
        "id": "RevG11I4N189",
        "outputId": "33c73a21-439f-4cf7-e36e-537d59989f71"
      },
      "execution_count": null,
      "outputs": [
        {
          "output_type": "stream",
          "name": "stdout",
          "text": [
            "Hola mundo\n"
          ]
        }
      ]
    },
    {
      "cell_type": "code",
      "source": [
        "## Las variables pueden cambiar a lo largo del programa en Python\n",
        "var=\"Adios mundo var\"\n",
        "print(var)"
      ],
      "metadata": {
        "colab": {
          "base_uri": "https://localhost:8080/"
        },
        "id": "WCPrMBusN5xh",
        "outputId": "2f3dd5f6-6617-48b3-b186-8ebf48573fea"
      },
      "execution_count": null,
      "outputs": [
        {
          "output_type": "stream",
          "name": "stdout",
          "text": [
            "Adios mundo var\n"
          ]
        }
      ]
    },
    {
      "cell_type": "markdown",
      "source": [
        "##3. Tipos de Datos"
      ],
      "metadata": {
        "id": "jrlr3ULyN95d"
      }
    },
    {
      "cell_type": "code",
      "source": [
        "#Tipos de datos numéricos\n",
        "entero=42\n",
        "#En la mayor parte de lenguajes de programación los enteros son representados con \"int\""
      ],
      "metadata": {
        "id": "dAFx47QPN7cq"
      },
      "execution_count": null,
      "outputs": []
    },
    {
      "cell_type": "code",
      "source": [
        "#Tipo de datos flotantes\n",
        "flotante=3.14151"
      ],
      "metadata": {
        "id": "tGJ5hAyhN_28"
      },
      "execution_count": null,
      "outputs": []
    },
    {
      "cell_type": "code",
      "source": [
        "# Conversión de los tipos de datos\n",
        "# Convertir un flotante a un número entero\n",
        "entero=int(3.14)\n",
        "print(entero)"
      ],
      "metadata": {
        "colab": {
          "base_uri": "https://localhost:8080/"
        },
        "id": "PrvanujHOBVY",
        "outputId": "f909aee2-c148-4268-ed83-7a377a79e74f"
      },
      "execution_count": null,
      "outputs": [
        {
          "output_type": "stream",
          "name": "stdout",
          "text": [
            "3\n"
          ]
        }
      ]
    },
    {
      "cell_type": "code",
      "source": [
        "#Convertir entero a flotante\n",
        "flotante=float(5)\n",
        "print(flotante)"
      ],
      "metadata": {
        "colab": {
          "base_uri": "https://localhost:8080/"
        },
        "id": "-aIM-n4ROCRX",
        "outputId": "7e3e8286-7b17-46b7-8715-6a353e1d188d"
      },
      "execution_count": null,
      "outputs": [
        {
          "output_type": "stream",
          "name": "stdout",
          "text": [
            "5.0\n"
          ]
        }
      ]
    },
    {
      "cell_type": "markdown",
      "source": [
        "##4. Operadores aritméticos\n",
        "\n",
        "Los operadores matemáticos se utilizan para realizar operaciones comunes como la adición, sustracción, multiplicación, etc."
      ],
      "metadata": {
        "id": "1TXJ270bOFbl"
      }
    },
    {
      "cell_type": "code",
      "source": [
        "# Suma\n",
        "a=10\n",
        "b=5\n",
        "print(a+b)\n"
      ],
      "metadata": {
        "colab": {
          "base_uri": "https://localhost:8080/"
        },
        "id": "47cljdZNODl0",
        "outputId": "aa62a467-6e8b-45b8-8173-531e7b06f80d"
      },
      "execution_count": null,
      "outputs": [
        {
          "output_type": "stream",
          "name": "stdout",
          "text": [
            "15\n"
          ]
        }
      ]
    },
    {
      "cell_type": "code",
      "source": [
        "# Resta\n",
        "c=a-b\n",
        "print(c)"
      ],
      "metadata": {
        "colab": {
          "base_uri": "https://localhost:8080/"
        },
        "id": "VMYSEDPhOJK6",
        "outputId": "a85a9159-ed5e-4183-e41c-604b10495cf7"
      },
      "execution_count": null,
      "outputs": [
        {
          "output_type": "stream",
          "name": "stdout",
          "text": [
            "5\n"
          ]
        }
      ]
    },
    {
      "cell_type": "code",
      "source": [
        "# Multiplicacion\n",
        "d=a*b\n",
        "print(d)"
      ],
      "metadata": {
        "colab": {
          "base_uri": "https://localhost:8080/"
        },
        "id": "ZHrWXXRWOKTY",
        "outputId": "706b0fdf-1659-47d1-ab5e-c55a3fc05979"
      },
      "execution_count": null,
      "outputs": [
        {
          "output_type": "stream",
          "name": "stdout",
          "text": [
            "50\n"
          ]
        }
      ]
    },
    {
      "cell_type": "code",
      "source": [
        "# División\n",
        "e=a/b\n",
        "print(e)"
      ],
      "metadata": {
        "colab": {
          "base_uri": "https://localhost:8080/"
        },
        "id": "RoU0APQPOLTc",
        "outputId": "134765d5-2b3d-4078-c3a1-5a2d4fffbb03"
      },
      "execution_count": null,
      "outputs": [
        {
          "output_type": "stream",
          "name": "stdout",
          "text": [
            "2.0\n"
          ]
        }
      ]
    },
    {
      "cell_type": "code",
      "source": [
        "# Divisón Entera\n",
        "print(a//b)"
      ],
      "metadata": {
        "colab": {
          "base_uri": "https://localhost:8080/"
        },
        "id": "1SsFp9ErOMSl",
        "outputId": "97c65b70-7ac3-4526-9977-7a288224470f"
      },
      "execution_count": null,
      "outputs": [
        {
          "output_type": "stream",
          "name": "stdout",
          "text": [
            "2\n"
          ]
        }
      ]
    },
    {
      "cell_type": "code",
      "source": [
        "# Modulo, residuo de una operación\n",
        "print(a%b)"
      ],
      "metadata": {
        "colab": {
          "base_uri": "https://localhost:8080/"
        },
        "id": "D3p1LwP3OOES",
        "outputId": "d3bebb88-87b2-40a7-d420-87aa05c1d14f"
      },
      "execution_count": null,
      "outputs": [
        {
          "output_type": "stream",
          "name": "stdout",
          "text": [
            "0\n"
          ]
        }
      ]
    },
    {
      "cell_type": "code",
      "source": [
        "# Potenciación\n",
        "print(a**b)"
      ],
      "metadata": {
        "colab": {
          "base_uri": "https://localhost:8080/"
        },
        "id": "-ucfKNIbOPQY",
        "outputId": "0f875c64-8367-4994-a3e0-728f0c4dda64"
      },
      "execution_count": null,
      "outputs": [
        {
          "output_type": "stream",
          "name": "stdout",
          "text": [
            "100000\n"
          ]
        }
      ]
    },
    {
      "cell_type": "code",
      "source": [
        "# Asignación compuesta\n",
        "a+=b\n",
        "print(a)"
      ],
      "metadata": {
        "colab": {
          "base_uri": "https://localhost:8080/"
        },
        "id": "g7354jXsOQR6",
        "outputId": "2fcd7a86-db33-42f7-ab2d-bee4ea091084"
      },
      "execution_count": null,
      "outputs": [
        {
          "output_type": "stream",
          "name": "stdout",
          "text": [
            "15\n"
          ]
        }
      ]
    },
    {
      "cell_type": "code",
      "source": [
        "print(a)"
      ],
      "metadata": {
        "colab": {
          "base_uri": "https://localhost:8080/"
        },
        "id": "e2rtQy-9ORYS",
        "outputId": "3aff3ed1-0bd3-4695-bf25-91fa2eb31623"
      },
      "execution_count": null,
      "outputs": [
        {
          "output_type": "stream",
          "name": "stdout",
          "text": [
            "15\n"
          ]
        }
      ]
    },
    {
      "cell_type": "code",
      "source": [
        "a-b\n",
        "print(a)"
      ],
      "metadata": {
        "colab": {
          "base_uri": "https://localhost:8080/"
        },
        "id": "2jNvbrIBOSu3",
        "outputId": "34dbf866-1792-429f-d8cb-050a3313a5b4"
      },
      "execution_count": null,
      "outputs": [
        {
          "output_type": "stream",
          "name": "stdout",
          "text": [
            "15\n"
          ]
        }
      ]
    },
    {
      "cell_type": "code",
      "source": [
        "# Redondeo\n",
        "var4=3.1410\n",
        "print(round(var4,2))"
      ],
      "metadata": {
        "colab": {
          "base_uri": "https://localhost:8080/"
        },
        "id": "NOG2ThMaOTg0",
        "outputId": "7ac0b183-0c56-4c2d-cd15-f48c06bc18dd"
      },
      "execution_count": null,
      "outputs": [
        {
          "output_type": "stream",
          "name": "stdout",
          "text": [
            "3.14\n"
          ]
        }
      ]
    },
    {
      "cell_type": "markdown",
      "source": [
        "Ejercicio 4: Operadores matematicos\n"
      ],
      "metadata": {
        "id": "2D936j5iOYBI"
      }
    },
    {
      "cell_type": "code",
      "source": [
        "# Paso 1:\n",
        "a = 10\n",
        "b = 3"
      ],
      "metadata": {
        "id": "Ecn62kHcOWZV"
      },
      "execution_count": null,
      "outputs": []
    },
    {
      "cell_type": "code",
      "source": [
        "# Paso 2:\n",
        "suma = a + b\n",
        "print(suma)"
      ],
      "metadata": {
        "colab": {
          "base_uri": "https://localhost:8080/"
        },
        "id": "-xYKQ7g1Odwf",
        "outputId": "27651269-60f0-41c4-c2dc-b675c3c975a0"
      },
      "execution_count": null,
      "outputs": [
        {
          "output_type": "stream",
          "name": "stdout",
          "text": [
            "13\n"
          ]
        }
      ]
    },
    {
      "cell_type": "code",
      "source": [
        "# Paso 3: .\n",
        "resta = a - b\n",
        "print(resta)"
      ],
      "metadata": {
        "colab": {
          "base_uri": "https://localhost:8080/"
        },
        "id": "dIeMn6xhOih7",
        "outputId": "79fde48e-8364-46c3-acac-550027e8a489"
      },
      "execution_count": null,
      "outputs": [
        {
          "output_type": "stream",
          "name": "stdout",
          "text": [
            "7\n"
          ]
        }
      ]
    },
    {
      "cell_type": "code",
      "source": [
        "# Paso 4:\n",
        "multiplicacion = a * b\n",
        "print(multiplicacion)"
      ],
      "metadata": {
        "colab": {
          "base_uri": "https://localhost:8080/"
        },
        "id": "5jMPaY1AOl9G",
        "outputId": "99299d58-c7ad-4391-c735-7f0cab84024d"
      },
      "execution_count": null,
      "outputs": [
        {
          "output_type": "stream",
          "name": "stdout",
          "text": [
            "30\n"
          ]
        }
      ]
    },
    {
      "cell_type": "code",
      "source": [
        "# Paso 5:\n",
        "division = a / b\n",
        "print(division)"
      ],
      "metadata": {
        "colab": {
          "base_uri": "https://localhost:8080/"
        },
        "id": "hTQ16AJ6OsE7",
        "outputId": "c723c4e4-20e3-4ad0-e062-df7cc1cee942"
      },
      "execution_count": null,
      "outputs": [
        {
          "output_type": "stream",
          "name": "stdout",
          "text": [
            "3.3333333333333335\n"
          ]
        }
      ]
    },
    {
      "cell_type": "code",
      "source": [
        "# Paso 6:\n",
        "modulo = a % b\n",
        "print(modulo)"
      ],
      "metadata": {
        "colab": {
          "base_uri": "https://localhost:8080/"
        },
        "id": "wFB1trDLOvEI",
        "outputId": "2bfab30d-6315-4c18-91ae-06cd4b5be62e"
      },
      "execution_count": null,
      "outputs": [
        {
          "output_type": "stream",
          "name": "stdout",
          "text": [
            "1\n"
          ]
        }
      ]
    },
    {
      "cell_type": "code",
      "source": [
        "# Paso 7:\n",
        "potencia = a ** b\n",
        "print(potencia)"
      ],
      "metadata": {
        "colab": {
          "base_uri": "https://localhost:8080/"
        },
        "id": "d-Gm--2_Oxku",
        "outputId": "add2b323-25cf-4cdd-f01b-093b59f88d1b"
      },
      "execution_count": null,
      "outputs": [
        {
          "output_type": "stream",
          "name": "stdout",
          "text": [
            "1000\n"
          ]
        }
      ]
    },
    {
      "cell_type": "code",
      "source": [
        "# Paso 8:\n",
        "division_entera = a // b\n",
        "print(division_entera)"
      ],
      "metadata": {
        "colab": {
          "base_uri": "https://localhost:8080/"
        },
        "id": "hA07AjDDOz3c",
        "outputId": "64bbe206-6627-4a1d-e4e4-a4d3db11772e"
      },
      "execution_count": null,
      "outputs": [
        {
          "output_type": "stream",
          "name": "stdout",
          "text": [
            "3\n"
          ]
        }
      ]
    },
    {
      "cell_type": "code",
      "source": [],
      "metadata": {
        "id": "toFecuz1O2Yk"
      },
      "execution_count": null,
      "outputs": []
    }
  ],
  "metadata": {
    "colab": {
      "toc_visible": true,
      "provenance": []
    },
    "kernelspec": {
      "display_name": "Python 3",
      "name": "python3"
    }
  },
  "nbformat": 4,
  "nbformat_minor": 0
}